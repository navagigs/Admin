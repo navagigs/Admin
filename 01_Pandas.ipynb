{
  "nbformat": 4,
  "nbformat_minor": 0,
  "metadata": {
    "colab": {
      "provenance": [],
      "mount_file_id": "1UDt2ZI6RR-87vp9KHxAU3E-fwkJC7-y2",
      "authorship_tag": "ABX9TyNBX5lf7ach/a9EHIuskuBB",
      "include_colab_link": true
    },
    "kernelspec": {
      "name": "python3",
      "display_name": "Python 3"
    },
    "language_info": {
      "name": "python"
    }
  },
  "cells": [
    {
      "cell_type": "markdown",
      "metadata": {
        "id": "view-in-github",
        "colab_type": "text"
      },
      "source": [
        "<a href=\"https://colab.research.google.com/github/navagigs/Admin/blob/master/01_Pandas.ipynb\" target=\"_parent\"><img src=\"https://colab.research.google.com/assets/colab-badge.svg\" alt=\"Open In Colab\"/></a>"
      ]
    },
    {
      "cell_type": "markdown",
      "source": [
        "# Intro to Pandas"
      ],
      "metadata": {
        "id": "J_Y3DL82jSam"
      }
    },
    {
      "cell_type": "code",
      "execution_count": null,
      "metadata": {
        "colab": {
          "base_uri": "https://localhost:8080/"
        },
        "id": "fdz3HbM9XSfr",
        "outputId": "7a3ccc31-a22b-4b9a-80a1-de35b71c7385"
      },
      "outputs": [
        {
          "output_type": "stream",
          "name": "stdout",
          "text": [
            "       lecture  score\n",
            "0  Rahma Hanum      7\n",
            "1      Trianty      5\n",
            "2     Nava Gia      3\n"
          ]
        }
      ],
      "source": [
        "#import library pandas\n",
        "import pandas as pd\n",
        "\n",
        "#dataset\n",
        "mydataset = {\n",
        "  'lecture': [\"Rahma Hanum\", \"Trianty\", \"Nava Gia\"],\n",
        "  'score': [7, 5, 3]\n",
        "}\n",
        "\n",
        "#Konversi dua kolom lecuture dan score\n",
        "myvar = pd.DataFrame(mydataset)\n",
        "\n",
        "print(myvar)"
      ]
    },
    {
      "cell_type": "markdown",
      "source": [
        "# Pandas Series"
      ],
      "metadata": {
        "id": "HBxGclDdjcND"
      }
    },
    {
      "cell_type": "code",
      "source": [
        "import pandas as pd\n",
        "\n",
        "lecture = [\"Rahma Hanum\", \"Trianty\", \"Nava Gia\"]\n",
        "     \n",
        "myvar = pd.Series (lecture)\n",
        "\n",
        "print (myvar)"
      ],
      "metadata": {
        "colab": {
          "base_uri": "https://localhost:8080/"
        },
        "id": "YtQMgHIOYAsw",
        "outputId": "1ab015bf-4b34-49a3-c1ae-ad251022f116"
      },
      "execution_count": null,
      "outputs": [
        {
          "output_type": "stream",
          "name": "stdout",
          "text": [
            "0    Rahma Hanum\n",
            "1        Trianty\n",
            "2       Nava Gia\n",
            "dtype: object\n"
          ]
        }
      ]
    },
    {
      "cell_type": "markdown",
      "source": [
        "Setelah membuat label, Kita dapat mengakses item dengan merujuk ke label."
      ],
      "metadata": {
        "id": "7nXpv5vIhnIl"
      }
    },
    {
      "cell_type": "code",
      "source": [
        "print (myvar[0])"
      ],
      "metadata": {
        "colab": {
          "base_uri": "https://localhost:8080/"
        },
        "id": "4SckAyfjeQo-",
        "outputId": "43bdece4-38c6-4e36-bc05-022e13dda5f9"
      },
      "execution_count": null,
      "outputs": [
        {
          "output_type": "stream",
          "name": "stdout",
          "text": [
            "Rahma Hanum\n"
          ]
        }
      ]
    },
    {
      "cell_type": "code",
      "source": [
        "import pandas as pd\n",
        "\n",
        "lecture = [\"Rahma Hanum\", \"Trianty\", \"Nava Gia\"]\n",
        "\n",
        "#memberi label x,yz\n",
        "myvar = pd.Series(lecture, index = [\"x\", \"y\", \"z\"])\n",
        "\n",
        "print(myvar)"
      ],
      "metadata": {
        "colab": {
          "base_uri": "https://localhost:8080/"
        },
        "id": "SO4ohnl8j4KS",
        "outputId": "5a5176cd-a989-4321-c192-b097f048e0d1"
      },
      "execution_count": null,
      "outputs": [
        {
          "output_type": "stream",
          "name": "stdout",
          "text": [
            "x    Rahma Hanum\n",
            "y        Trianty\n",
            "z       Nava Gia\n",
            "dtype: object\n"
          ]
        }
      ]
    },
    {
      "cell_type": "markdown",
      "source": [
        "Setelah membuat label, Kita dapat mengakses item dengan merujuk ke label."
      ],
      "metadata": {
        "id": "If8Pf1NilPOX"
      }
    },
    {
      "cell_type": "code",
      "source": [
        "print(myvar[\"y\"])"
      ],
      "metadata": {
        "colab": {
          "base_uri": "https://localhost:8080/"
        },
        "id": "_lhD7zmClRaS",
        "outputId": "1b358ecc-b08d-4c1d-d201-97cc99cd08e8"
      },
      "execution_count": null,
      "outputs": [
        {
          "output_type": "stream",
          "name": "stdout",
          "text": [
            "Trianty\n"
          ]
        }
      ]
    },
    {
      "cell_type": "markdown",
      "source": [
        "## Key/Value Objects as Series"
      ],
      "metadata": {
        "id": "p2i6mTWhlYZt"
      }
    },
    {
      "cell_type": "code",
      "source": [
        "import pandas as pd\n",
        "\n",
        "lecture = {\"Rahma Hanum\": 7, \"Trianty\": 5, \"Nava Gia\": 3}\n",
        "\n",
        "myvar = pd.Series(lecture)\n",
        "\n",
        "print(myvar)"
      ],
      "metadata": {
        "colab": {
          "base_uri": "https://localhost:8080/"
        },
        "id": "-Oty5lBJlaYh",
        "outputId": "ee92dd24-6c88-4405-c602-120c41d32b61"
      },
      "execution_count": null,
      "outputs": [
        {
          "output_type": "stream",
          "name": "stdout",
          "text": [
            "Rahma Hanum    7\n",
            "Trianty        5\n",
            "Nava Gia       3\n",
            "dtype: int64\n"
          ]
        }
      ]
    },
    {
      "cell_type": "markdown",
      "source": [
        "Untuk memilih hanya beberapa item dalam kamus, gunakan indeks argumen dan hanya tentukan item yang ingin Kita sertakan dalam Seri."
      ],
      "metadata": {
        "id": "mISQzmqOmfv3"
      }
    },
    {
      "cell_type": "code",
      "source": [
        "import pandas as pd\n",
        "\n",
        "lecture = {\"Rahma Hanum\": 7, \"Trianty\": 5, \"Nava Gia\": 3}\n",
        "\n",
        "myvar = pd.Series(lecture, index = [\"Rahma Hanum\", \"Trianty\"])\n",
        "\n",
        "print(myvar)"
      ],
      "metadata": {
        "colab": {
          "base_uri": "https://localhost:8080/"
        },
        "id": "XlRPkOh8mgio",
        "outputId": "c60cdbe7-3ae5-4a46-c77e-f43d2c0e3fdb"
      },
      "execution_count": null,
      "outputs": [
        {
          "output_type": "stream",
          "name": "stdout",
          "text": [
            "Rahma Hanum    7\n",
            "Trianty        5\n",
            "dtype: int64\n"
          ]
        }
      ]
    },
    {
      "cell_type": "markdown",
      "source": [
        "# Pandas DataFrames"
      ],
      "metadata": {
        "id": "xEETS0CZqUpY"
      }
    },
    {
      "cell_type": "code",
      "source": [
        "import pandas as pd\n",
        "\n",
        "data = {\n",
        "  \"calories\": [420, 380, 390],\n",
        "  \"duration\": [50, 40, 45]\n",
        "}\n",
        "\n",
        "myvar = pd.DataFrame(data)\n",
        "df = pd.DataFrame(data)\n",
        "print(myvar)"
      ],
      "metadata": {
        "colab": {
          "base_uri": "https://localhost:8080/"
        },
        "id": "iMUw2drmqX8M",
        "outputId": "35bc3a00-4711-45fa-a039-b6e6a51c7de5"
      },
      "execution_count": null,
      "outputs": [
        {
          "output_type": "stream",
          "name": "stdout",
          "text": [
            "   calories  duration\n",
            "0       420        50\n",
            "1       380        40\n",
            "2       390        45\n"
          ]
        }
      ]
    },
    {
      "cell_type": "markdown",
      "source": [
        "##Locate Row"
      ],
      "metadata": {
        "id": "9p8f7tBAuBTy"
      }
    },
    {
      "cell_type": "code",
      "source": [
        "#merujuk ke indeks baris:\n",
        "print(df.loc[0])"
      ],
      "metadata": {
        "colab": {
          "base_uri": "https://localhost:8080/"
        },
        "id": "lCP7HRd3uCB4",
        "outputId": "e532f96b-33b0-48af-e13b-46766aa26f87"
      },
      "execution_count": null,
      "outputs": [
        {
          "output_type": "stream",
          "name": "stdout",
          "text": [
            "calories    420\n",
            "duration     50\n",
            "Name: 0, dtype: int64\n"
          ]
        }
      ]
    },
    {
      "cell_type": "code",
      "source": [
        "#gunakan daftar indeks:\n",
        "print(df.loc[[0, 1]])"
      ],
      "metadata": {
        "colab": {
          "base_uri": "https://localhost:8080/"
        },
        "id": "C3EkxmemuSxG",
        "outputId": "056013f6-48fb-4436-ddbd-ca3e96189617"
      },
      "execution_count": null,
      "outputs": [
        {
          "output_type": "stream",
          "name": "stdout",
          "text": [
            "   calories  duration\n",
            "0       420        50\n",
            "1       380        40\n"
          ]
        }
      ]
    },
    {
      "cell_type": "markdown",
      "source": [
        "# Load files to dataframe"
      ],
      "metadata": {
        "id": "y1rymEpLvcdf"
      }
    },
    {
      "cell_type": "code",
      "source": [
        "import pandas as pd\n",
        "\n",
        "df = pd.read_csv('/content/drive/MyDrive/Colab Notebooks/data.csv')\n",
        "\n",
        "print(df.to_string())"
      ],
      "metadata": {
        "colab": {
          "base_uri": "https://localhost:8080/"
        },
        "id": "Ui74Cxh9vdVk",
        "outputId": "eee870e6-bddc-4204-b9b7-0c7cd0767376"
      },
      "execution_count": 1,
      "outputs": [
        {
          "output_type": "stream",
          "name": "stdout",
          "text": [
            "          NPM                         Nama Lengkap\n",
            "0   183220001             Rafli Syahrial Putradewa\n",
            "1   183220003               Sri Nuryani Pujiastuti\n",
            "2   183220002                Allya Sofiana Assyifa\n",
            "3   183220004              Shifa Al-Fathia Laksana\n",
            "4   183220005            Muhammad Rafli Rafsanjani\n",
            "5   183220007                  Fadhil Irmani Putra\n",
            "6   183220006                        Nurul Faujiah\n",
            "7   183220008                Muhammad Dafa Farhani\n",
            "8   183220009               Jonathan Rizky Sitorus\n",
            "9   183220010                           Febriyanti\n",
            "10  183220045       Muhammad Renaga Shafar Anggara\n",
            "11  183220012                  Majestin Ammadienta\n",
            "12  183220013                   Nauro Cahya Kanthi\n",
            "13  183220014                 Muhammad Nurdiansyah\n",
            "14  183220016                Firyal Iftinan Dianti\n",
            "15  183220015           Ravendirtha Muchlas Aldino\n",
            "16  183220017                          Wildan Azis\n",
            "17  183220018                      Alia Mega Putri\n",
            "18  183220019                   Jose Elio Parhusip\n",
            "19  183220021                    Anindhita Azzahra\n",
            "20  183220020    Reynara Oliver Sandedigo Simamora\n",
            "21  183220022                      Hidayah Kamulia\n",
            "22  183220028           Devina Syilva Putri Feliza\n",
            "23  183220055                    Muhammad Amrulloh\n",
            "24  183220027                          Siti Umayah\n",
            "25  183220023                       Hanif Annaufal\n",
            "26  183220026                   Ahmad Nouval Riant\n",
            "27  183220025                           Fiska Dewi\n",
            "28  183220029                Mochamad Fakhriy Afif\n",
            "29  183220031                     Nailah Salsabila\n",
            "30  183220030                  Defi Siti Anggraeni\n",
            "31  183220037   Farrel Tommy Bresciano Butar Butar\n",
            "32  183220033                  Arbi Maulidan Yusuf\n",
            "33  183220034                        Fitra Zaelani\n",
            "34  183220056            Galih Aulia Putra Wardaya\n",
            "35  183220035         Meilanisa Moyan Sariningtyas\n",
            "36  183220032                       Khalil Rabbani\n",
            "37  183220048              Elizabeth Fiona Agnesia\n",
            "38  183220052                      Indyra Yulianti\n",
            "39  183220040  Disya Raissasyahra Dzakirah Rusydah\n",
            "40  183220051                          Indi Sabila\n",
            "41  183220042                    Alif Reihan Ashri\n",
            "42  183220046          Muhammad Firjatullah Akhbar\n",
            "43  183220053           Muhammad Farouq Dhiyaulhaq\n",
            "44  183220049               Tiara Suci Puspitasari\n",
            "45  183220050                         Tommy Wijaya\n",
            "46  183220058             Aisyah Nushrah Diniyyati\n",
            "47  183220047                       Muhammad Ridho\n",
            "48  183220057                         Mukti Sugian\n",
            "49  183220054                   Afif Surya Santoso\n",
            "50  183220059                  Melvan Faza Hidayat\n",
            "51  183220064            Najla Nazhira Putri Afvin\n",
            "52  183220065                 Rahma Kharisma Putri\n",
            "53  183220061                     Rani Artika Sari\n",
            "54  183220060           Kukuh Tabah Sulthon Khoiri\n",
            "55  183220062     Dyah Ayu Elsa Pitaloka Marantika\n",
            "56  183220063                     Diva Putri Anisa\n",
            "57  183220067               Farhan Azhar Ramdhiano\n",
            "58  183220066                       Ardita Mandala\n"
          ]
        }
      ]
    },
    {
      "cell_type": "code",
      "source": [
        "import pandas as pd\n",
        "df = pd.read_csv('/content/data.csv')\n",
        "\n",
        "print(df.to_string())"
      ],
      "metadata": {
        "colab": {
          "base_uri": "https://localhost:8080/"
        },
        "id": "gZXkcRSGw6Ec",
        "outputId": "d942f8f8-fcd7-4b81-fe37-8eb3f6853260"
      },
      "execution_count": null,
      "outputs": [
        {
          "output_type": "stream",
          "name": "stdout",
          "text": [
            "                                 NPM;Nama Lengkap\n",
            "0              183220001;Rafli Syahrial Putradewa\n",
            "1                183220003;Sri Nuryani Pujiastuti\n",
            "2                 183220002;Allya Sofiana Assyifa\n",
            "3               183220004;Shifa Al-Fathia Laksana\n",
            "4             183220005;Muhammad Rafli Rafsanjani\n",
            "5                   183220007;Fadhil Irmani Putra\n",
            "6                         183220006;Nurul Faujiah\n",
            "7                 183220008;Muhammad Dafa Farhani\n",
            "8                183220009;Jonathan Rizky Sitorus\n",
            "9                            183220010;Febriyanti\n",
            "10       183220045;Muhammad Renaga Shafar Anggara\n",
            "11                  183220012;Majestin Ammadienta\n",
            "12                   183220013;Nauro Cahya Kanthi\n",
            "13                 183220014;Muhammad Nurdiansyah\n",
            "14                183220016;Firyal Iftinan Dianti\n",
            "15           183220015;Ravendirtha Muchlas Aldino\n",
            "16                          183220017;Wildan Azis\n",
            "17                      183220018;Alia Mega Putri\n",
            "18                   183220019;Jose Elio Parhusip\n",
            "19                    183220021;Anindhita Azzahra\n",
            "20    183220020;Reynara Oliver Sandedigo Simamora\n",
            "21                      183220022;Hidayah Kamulia\n",
            "22           183220028;Devina Syilva Putri Feliza\n",
            "23                    183220055;Muhammad Amrulloh\n",
            "24                          183220027;Siti Umayah\n",
            "25                       183220023;Hanif Annaufal\n",
            "26                   183220026;Ahmad Nouval Riant\n",
            "27                           183220025;Fiska Dewi\n",
            "28                183220029;Mochamad Fakhriy Afif\n",
            "29                     183220031;Nailah Salsabila\n",
            "30                  183220030;Defi Siti Anggraeni\n",
            "31   183220037;Farrel Tommy Bresciano Butar Butar\n",
            "32                  183220033;Arbi Maulidan Yusuf\n",
            "33                        183220034;Fitra Zaelani\n",
            "34            183220056;Galih Aulia Putra Wardaya\n",
            "35         183220035;Meilanisa Moyan Sariningtyas\n",
            "36                       183220032;Khalil Rabbani\n",
            "37              183220048;Elizabeth Fiona Agnesia\n",
            "38                      183220052;Indyra Yulianti\n",
            "39  183220040;Disya Raissasyahra Dzakirah Rusydah\n",
            "40                          183220051;Indi Sabila\n",
            "41                    183220042;Alif Reihan Ashri\n",
            "42          183220046;Muhammad Firjatullah Akhbar\n",
            "43           183220053;Muhammad Farouq Dhiyaulhaq\n",
            "44               183220049;Tiara Suci Puspitasari\n",
            "45                         183220050;Tommy Wijaya\n",
            "46             183220058;Aisyah Nushrah Diniyyati\n",
            "47                       183220047;Muhammad Ridho\n",
            "48                         183220057;Mukti Sugian\n",
            "49                   183220054;Afif Surya Santoso\n",
            "50                  183220059;Melvan Faza Hidayat\n",
            "51            183220064;Najla Nazhira Putri Afvin\n",
            "52                 183220065;Rahma Kharisma Putri\n",
            "53                     183220061;Rani Artika Sari\n",
            "54           183220060;Kukuh Tabah Sulthon Khoiri\n",
            "55     183220062;Dyah Ayu Elsa Pitaloka Marantika\n",
            "56                     183220063;Diva Putri Anisa\n",
            "57               183220067;Farhan Azhar Ramdhiano\n",
            "58                       183220066;Ardita Mandala\n"
          ]
        }
      ]
    },
    {
      "cell_type": "code",
      "source": [
        "print(df)"
      ],
      "metadata": {
        "colab": {
          "base_uri": "https://localhost:8080/"
        },
        "id": "GM7_ym8Nvdd7",
        "outputId": "4d896315-800d-4387-f52a-1755214e0d77"
      },
      "execution_count": null,
      "outputs": [
        {
          "output_type": "stream",
          "name": "stdout",
          "text": [
            "                                 NPM;Nama Lengkap\n",
            "0              183220001;Rafli Syahrial Putradewa\n",
            "1                183220003;Sri Nuryani Pujiastuti\n",
            "2                 183220002;Allya Sofiana Assyifa\n",
            "3               183220004;Shifa Al-Fathia Laksana\n",
            "4             183220005;Muhammad Rafli Rafsanjani\n",
            "5                   183220007;Fadhil Irmani Putra\n",
            "6                         183220006;Nurul Faujiah\n",
            "7                 183220008;Muhammad Dafa Farhani\n",
            "8                183220009;Jonathan Rizky Sitorus\n",
            "9                            183220010;Febriyanti\n",
            "10       183220045;Muhammad Renaga Shafar Anggara\n",
            "11                  183220012;Majestin Ammadienta\n",
            "12                   183220013;Nauro Cahya Kanthi\n",
            "13                 183220014;Muhammad Nurdiansyah\n",
            "14                183220016;Firyal Iftinan Dianti\n",
            "15           183220015;Ravendirtha Muchlas Aldino\n",
            "16                          183220017;Wildan Azis\n",
            "17                      183220018;Alia Mega Putri\n",
            "18                   183220019;Jose Elio Parhusip\n",
            "19                    183220021;Anindhita Azzahra\n",
            "20    183220020;Reynara Oliver Sandedigo Simamora\n",
            "21                      183220022;Hidayah Kamulia\n",
            "22           183220028;Devina Syilva Putri Feliza\n",
            "23                    183220055;Muhammad Amrulloh\n",
            "24                          183220027;Siti Umayah\n",
            "25                       183220023;Hanif Annaufal\n",
            "26                   183220026;Ahmad Nouval Riant\n",
            "27                           183220025;Fiska Dewi\n",
            "28                183220029;Mochamad Fakhriy Afif\n",
            "29                     183220031;Nailah Salsabila\n",
            "30                  183220030;Defi Siti Anggraeni\n",
            "31   183220037;Farrel Tommy Bresciano Butar Butar\n",
            "32                  183220033;Arbi Maulidan Yusuf\n",
            "33                        183220034;Fitra Zaelani\n",
            "34            183220056;Galih Aulia Putra Wardaya\n",
            "35         183220035;Meilanisa Moyan Sariningtyas\n",
            "36                       183220032;Khalil Rabbani\n",
            "37              183220048;Elizabeth Fiona Agnesia\n",
            "38                      183220052;Indyra Yulianti\n",
            "39  183220040;Disya Raissasyahra Dzakirah Rusydah\n",
            "40                          183220051;Indi Sabila\n",
            "41                    183220042;Alif Reihan Ashri\n",
            "42          183220046;Muhammad Firjatullah Akhbar\n",
            "43           183220053;Muhammad Farouq Dhiyaulhaq\n",
            "44               183220049;Tiara Suci Puspitasari\n",
            "45                         183220050;Tommy Wijaya\n",
            "46             183220058;Aisyah Nushrah Diniyyati\n",
            "47                       183220047;Muhammad Ridho\n",
            "48                         183220057;Mukti Sugian\n",
            "49                   183220054;Afif Surya Santoso\n",
            "50                  183220059;Melvan Faza Hidayat\n",
            "51            183220064;Najla Nazhira Putri Afvin\n",
            "52                 183220065;Rahma Kharisma Putri\n",
            "53                     183220061;Rani Artika Sari\n",
            "54           183220060;Kukuh Tabah Sulthon Khoiri\n",
            "55     183220062;Dyah Ayu Elsa Pitaloka Marantika\n",
            "56                     183220063;Diva Putri Anisa\n",
            "57               183220067;Farhan Azhar Ramdhiano\n",
            "58                       183220066;Ardita Mandala\n"
          ]
        }
      ]
    },
    {
      "cell_type": "code",
      "source": [
        "print(df.head(17))"
      ],
      "metadata": {
        "colab": {
          "base_uri": "https://localhost:8080/"
        },
        "id": "_ToXQrMb1qXk",
        "outputId": "0a848f39-8df2-45aa-aa92-ea42b930d6a4"
      },
      "execution_count": null,
      "outputs": [
        {
          "output_type": "stream",
          "name": "stdout",
          "text": [
            "                            NPM;Nama Lengkap\n",
            "0         183220001;Rafli Syahrial Putradewa\n",
            "1           183220003;Sri Nuryani Pujiastuti\n",
            "2            183220002;Allya Sofiana Assyifa\n",
            "3          183220004;Shifa Al-Fathia Laksana\n",
            "4        183220005;Muhammad Rafli Rafsanjani\n",
            "5              183220007;Fadhil Irmani Putra\n",
            "6                    183220006;Nurul Faujiah\n",
            "7            183220008;Muhammad Dafa Farhani\n",
            "8           183220009;Jonathan Rizky Sitorus\n",
            "9                       183220010;Febriyanti\n",
            "10  183220045;Muhammad Renaga Shafar Anggara\n",
            "11             183220012;Majestin Ammadienta\n",
            "12              183220013;Nauro Cahya Kanthi\n",
            "13            183220014;Muhammad Nurdiansyah\n",
            "14           183220016;Firyal Iftinan Dianti\n",
            "15      183220015;Ravendirtha Muchlas Aldino\n",
            "16                     183220017;Wildan Azis\n"
          ]
        }
      ]
    }
  ]
}