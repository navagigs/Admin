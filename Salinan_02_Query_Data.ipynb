{
  "nbformat": 4,
  "nbformat_minor": 0,
  "metadata": {
    "colab": {
      "provenance": [],
      "mount_file_id": "1IwPtmUM4Y5vBN3ZDL-2GTwIqOR3wnMEv",
      "authorship_tag": "ABX9TyOxUR1PcN5Hf1U+o3s3V8DY",
      "include_colab_link": true
    },
    "kernelspec": {
      "name": "python3",
      "display_name": "Python 3"
    },
    "language_info": {
      "name": "python"
    }
  },
  "cells": [
    {
      "cell_type": "markdown",
      "metadata": {
        "id": "view-in-github",
        "colab_type": "text"
      },
      "source": [
        "<a href=\"https://colab.research.google.com/github/navagigs/Admin/blob/master/Salinan_02_Query_Data.ipynb\" target=\"_parent\"><img src=\"https://colab.research.google.com/assets/colab-badge.svg\" alt=\"Open In Colab\"/></a>"
      ]
    },
    {
      "cell_type": "markdown",
      "source": [
        "# Import data dari CSV ke DataFrame"
      ],
      "metadata": {
        "id": "Qwj6HjdBGvS-"
      }
    },
    {
      "cell_type": "code",
      "execution_count": null,
      "metadata": {
        "colab": {
          "base_uri": "https://localhost:8080/"
        },
        "id": "0IzVlyqp46Uf",
        "outputId": "274e2cac-3b8a-4c1f-8514-97bd1be61382"
      },
      "outputs": [
        {
          "output_type": "stream",
          "name": "stdout",
          "text": [
            "          NPM                         Nama Lengkap JK                               TTL           Kota/Kabupaten           Provinsi\n",
            "0   183220001             Rafli Syahrial Putradewa  L               Denpasar,2004-09-04       Kab. Bandung Barat         Jawa Barat\n",
            "1   183220003               Sri Nuryani Pujiastuti  P                Bandung,2004-01-11             Kota Bandung         Jawa Barat\n",
            "2   183220002                Allya Sofiana Assyifa  P                Jakarta,2004-06-14          Kab. Pekalongan        Jawa Tengah\n",
            "3   183220004              Shifa Al-Fathia Laksana  P             Banjarrejo,2003-12-17       Kab. Lampung Timur            Lampung\n",
            "4   183220005            Muhammad Rafli Rafsanjani  L                 Bekasi,2003-12-21               Kab. Bogor         Jawa Barat\n",
            "5   183220007                  Fadhil Irmani Putra  L                Bandung,2003-02-18             Kota Bandung         Jawa Barat\n",
            "6   183220006                        Nurul Faujiah  P              Indramayu,2004-09-12           Kab. Indramayu         Jawa Barat\n",
            "7   183220008                Muhammad Dafa Farhani  L           Sungguminasa,2003-06-09                Kab. Gowa   Sulawesi Selatan\n",
            "8   183220009               Jonathan Rizky Sitorus  L                 Tandun,2004-10-04              Kab. Kampar               Riau\n",
            "9   183220010                           Febriyanti  P                Bandung,2004-02-11             Kab. Bandung         Jawa Barat\n",
            "10  183220045       Muhammad Renaga Shafar Anggara  L          Palangka Raya,2004-03-30       Kota Palangka Raya  Kalimantan Tengah\n",
            "11  183220012                  Majestin Ammadienta  P                  Bogor,2004-02-25              Kab. Bekasi         Jawa Barat\n",
            "12  183220013                   Nauro Cahya Kanthi  P                  Curup,2004-03-06       Kab. Rejang Lebong           Bengkulu\n",
            "13  183220014                 Muhammad Nurdiansyah  L            Tulungagung,2003-09-24         Kab. Tulungagung         Jawa Timur\n",
            "14  183220016                Firyal Iftinan Dianti  P                Bandung,2003-10-29             Kota Bandung         Jawa Barat\n",
            "15  183220015           Ravendirtha Muchlas Aldino  L           Lubuk Basung,2003-09-21                Kab. Agam     Sumatera Barat\n",
            "16  183220017                          Wildan Azis  L                Jakarta,2004-03-18       Kota Jakarta Timur        DKI Jakarta\n",
            "17  183220018                      Alia Mega Putri  P                Bandung,1970-01-01             Kota Bandung         Jawa Barat\n",
            "18  183220019                   Jose Elio Parhusip  L                 Bekasi,2003-01-31              Kota Bekasi         Jawa Barat\n",
            "19  183220021                    Anindhita Azzahra  P                 Cimahi,2003-05-06              Kota Cimahi         Jawa Barat\n",
            "20  183220020    Reynara Oliver Sandedigo Simamora  L                  Depok,2003-08-28               Kota Depok         Jawa Barat\n",
            "21  183220022                      Hidayah Kamulia  L                Bandung,2003-12-12             Kota Bandung         Jawa Barat\n",
            "22  183220028           Devina Syilva Putri Feliza  P                Cianjur,2005-02-05             Kab. Cianjur         Jawa Barat\n",
            "23  183220055                    Muhammad Amrulloh  L                Cianjur,1970-01-01             Kab. Cianjur         Jawa Barat\n",
            "24  183220027                          Siti Umayah  P                 Subang,2004-03-15              Kab. Subang         Jawa Barat\n",
            "25  183220023                       Hanif Annaufal  L                Bandung,2004-04-18             Kab. Bandung         Jawa Barat\n",
            "26  183220026                   Ahmad Nouval Riant  L                Bandung,2003-12-19               Kab. Bogor         Jawa Barat\n",
            "27  183220025                           Fiska Dewi  P                Bandung,2004-08-26             Kota Bandung         Jawa Barat\n",
            "28  183220029                Mochamad Fakhriy Afif  L                Bandung,2004-06-13             Kab. Bandung         Jawa Barat\n",
            "29  183220031                     Nailah Salsabila  P         Baruah Gunuang,2003-10-13     Kab. Lima Puluh Kota     Sumatera Barat\n",
            "30  183220030                  Defi Siti Anggraeni  P                Bandung,2003-08-28             Kota Bandung         Jawa Barat\n",
            "31  183220037   Farrel Tommy Bresciano Butar Butar  L                Jakarta,2004-06-07       Kota Jakarta Utara        DKI Jakarta\n",
            "32  183220033                  Arbi Maulidan Yusuf  L                Bandung,2004-05-20       Kab. Bandung Barat         Jawa Barat\n",
            "33  183220034                        Fitra Zaelani  L                Bandung,1970-01-01       Kab. Bandung Barat         Jawa Barat\n",
            "34  183220056            Galih Aulia Putra Wardaya  L                  Demak,2002-12-02               Kab. Demak        Jawa Tengah\n",
            "35  183220035         Meilanisa Moyan Sariningtyas  P                Bandung,2004-05-04             Kota Bandung         Jawa Barat\n",
            "36  183220032                       Khalil Rabbani  L              Pekanbaru,2004-04-24           Kota Pekanbaru               Riau\n",
            "37  183220048              Elizabeth Fiona Agnesia  P              Tangerang,2004-10-24   Kota Tangerang Selatan             Banten\n",
            "38  183220052                      Indyra Yulianti  P                 Cimahi,2003-09-11       Kab. Bandung Barat         Jawa Barat\n",
            "39  183220040  Disya Raissasyahra Dzakirah Rusydah  P               Sukabumi,2003-11-18            Kota Sukabumi         Jawa Barat\n",
            "40  183220051                          Indi Sabila  P                 Bekasi,2004-06-05              Kab. Bekasi         Jawa Barat\n",
            "41  183220042                    Alif Reihan Ashri  L                Jakarta,2004-01-04       Kota Jakarta Timur        DKI Jakarta\n",
            "42  183220046          Muhammad Firjatullah Akhbar  L              Singapore,2004-03-03              Kota Bekasi         Jawa Barat\n",
            "43  183220053           Muhammad Farouq Dhiyaulhaq  L  Tanjung Balai Karimun,2003-01-26             Kab. Karimun     Kepulauan Riau\n",
            "44  183220049               Tiara Suci Puspitasari  P                Bandung,2002-12-11             Kota Bandung         Jawa Barat\n",
            "45  183220050                         Tommy Wijaya  L             Majalengka,2003-12-01          Kab. Majalengka         Jawa Barat\n",
            "46  183220058             Aisyah Nushrah Diniyyati  P              Mojokerto,2004-02-02           Kota Mojokerto         Jawa Timur\n",
            "47  183220047                       Muhammad Ridho  L         Padang Panjang,2004-04-28             Kab. Bandung         Jawa Barat\n",
            "48  183220057                         Mukti Sugian  L                 Bekasi,2004-03-14              Kab. Bekasi         Jawa Barat\n",
            "49  183220054                   Afif Surya Santoso  L                Jakarta,2003-12-18       Kota Jakarta Pusat        DKI Jakarta\n",
            "50  183220059                  Melvan Faza Hidayat  L                Bandung,2003-09-14             Kab. Bandung         Jawa Barat\n",
            "51  183220064            Najla Nazhira Putri Afvin  P                Bandung,2003-10-06             Kota Bandung         Jawa Barat\n",
            "52  183220065                 Rahma Kharisma Putri  P   Bumi Pratama Mandira,2004-06-19  Kab. Ogan Komering Ilir   Sumatera Selatan\n",
            "53  183220061                     Rani Artika Sari  P                  Metro,1970-01-01      Kab. Lampung Tengah            Lampung\n",
            "54  183220060           Kukuh Tabah Sulthon Khoiri  L                  Tuban,2001-08-06            Kab. Lamongan         Jawa Timur\n",
            "55  183220062     Dyah Ayu Elsa Pitaloka Marantika  P         Bandar Lampung,2004-04-08      Kota Bandar Lampung            Lampung\n",
            "56  183220063                     Diva Putri Anisa  P                  Batam,2003-07-19           Kota Tangerang             Banten\n",
            "57  183220067               Farhan Azhar Ramdhiano  L                Bandung,2004-11-01             Kota Bandung         Jawa Barat\n",
            "58  183220066                       Ardita Mandala  L                Bandung,2003-01-19       Kab. Bandung Barat         Jawa Barat\n"
          ]
        }
      ],
      "source": [
        "import pandas as pd\n",
        "\n",
        "df = pd.read_csv('/content/drive/MyDrive/Colab Notebooks/data_mhs_bisdig2023.csv')\n",
        "print(df.to_string())"
      ]
    }
  ]
}